{
  "cells": [
    {
      "cell_type": "markdown",
      "metadata": {
        "id": "view-in-github",
        "colab_type": "text"
      },
      "source": [
        "<a href=\"https://colab.research.google.com/github/kwanderer/UnitedConspects/blob/master/MD_LSTM_step_30_files_40.ipynb\" target=\"_parent\"><img src=\"https://colab.research.google.com/assets/colab-badge.svg\" alt=\"Open In Colab\"/></a>"
      ]
    },
    {
      "cell_type": "markdown",
      "metadata": {
        "id": "f857kfHqUk0-"
      },
      "source": [
        "\n",
        "\n",
        "#Datu kopa"
      ]
    },
    {
      "cell_type": "markdown",
      "metadata": {
        "id": "nM9WE3QGUwVi"
      },
      "source": [
        "Datu kopas avots: https://www.kaggle.com/uysalserkan/fault-induction-motor-dataset"
      ]
    },
    {
      "cell_type": "markdown",
      "metadata": {
        "id": "_sN_h3qHHy6r"
      },
      "source": [
        "Darbā tiek izmantota indukcijas motora parametru datu bāze. Izmantotajā datu kopā ir dati, kas tika iegūti SpectraQuest aparatūras kļūdu simulatorā (Machinery Fault Simulator).\n",
        "\n",
        "Katra mērījumu secība tika ģenerēta ar frekvenci 50 kHz 5 sekunžu laikā, kopā 250 000 mērījumi.\n",
        "\n",
        "Dati ir apkopoti vairākos failos, dažādos darbības stāvokļos un to apjoms ir ļoti liels. Šajā darbā tika izmantota daļa(viena mērījumu secība) no motora normālas darbības datiem.\n"
      ]
    },
    {
      "cell_type": "markdown",
      "metadata": {
        "id": "KtFAOaHYHLPo"
      },
      "source": [
        "Dati ir apkopoti tabulā, kura satur 8 parametrus. Dati ir iedalīti sekojošās kolonas:\n",
        "\n",
        "**tachometer** – tahometra signāls, kas ļauj novērtēt rotācijas frekvenci\n",
        "\n",
        "**und-accelerometer-axial** - apakšā esošā gultņa akselerometrs (aksiālais virziens)\n",
        "\n",
        "**und-accelerometer-radial** – apakšā esošā gultņa akselerometrs (radiālais virziens)\n",
        "\n",
        "**und-accelerometer-tangential** - apakšā esošā gultņa akselerometrs (tangenciālais virziens)\n",
        "\n",
        "**over-accelerometer-axial** - pārkares gultņa akselerometrs (aksiālais virziens)\n",
        "\n",
        "**over-accelerometer-radial** – pārkares gultņa akselerometrs (radiālais  virziens)\n",
        "\n",
        "**over-accelerometer-tangential**  - pārkares gultņa akselerometrs (tangenciālais virziens)\n",
        "\n",
        "**microphone** – mikrofona vērtība\n"
      ]
    },
    {
      "cell_type": "markdown",
      "metadata": {
        "id": "XymoNLKMVFUC"
      },
      "source": [
        "#Datu ielasīšana un satura vizualizācija"
      ]
    },
    {
      "cell_type": "code",
      "execution_count": 1,
      "metadata": {
        "id": "_yqYZDeOFq5s"
      },
      "outputs": [],
      "source": [
        "import keras\n",
        "from keras.layers import LSTM, Dropout, Dense\n",
        "import tensorflow as tf\n",
        "import numpy as np\n",
        "import pandas as pd\n",
        "\n",
        "from sklearn import linear_model  #pip install sklearn - loti plasa masinapmacibas biblioteka\n",
        "from sklearn.linear_model import LinearRegression  \n",
        "import csv          #pip install csv - darbam ar CSV datu kopam\n",
        "import requests     #pip install requests  - vienkarsakam darbam ar tiessaistes CSV datu kopam tiessaistes\n",
        "\n",
        "import matplotlib\n",
        "import matplotlib.pyplot as plt\n",
        "\n",
        "import glob\n"
      ]
    },
    {
      "cell_type": "code",
      "execution_count": 2,
      "metadata": {
        "id": "wlRTBbM2eUcV",
        "colab": {
          "base_uri": "https://localhost:8080/"
        },
        "outputId": "81b941cf-5a81-4795-f664-753f03d59646"
      },
      "outputs": [
        {
          "output_type": "stream",
          "name": "stdout",
          "text": [
            "Mounted at /content/gdrive\n"
          ]
        }
      ],
      "source": [
        "from google.colab import drive\n",
        "import os\n",
        "drive.mount('/content/gdrive')\n",
        "os.chdir(\"/content/gdrive/MyDrive/Colab Notebooks/data2/\")"
      ]
    },
    {
      "cell_type": "code",
      "execution_count": 3,
      "metadata": {
        "id": "zzz6fBl_SNom"
      },
      "outputs": [],
      "source": [
        "#extension = 'csv'\n",
        "#all_filenames = [i for i in glob.glob('*.{}'.format(extension))]"
      ]
    },
    {
      "cell_type": "code",
      "execution_count": 4,
      "metadata": {
        "id": "vagKFCkToBi0"
      },
      "outputs": [],
      "source": [
        "#combine all files in the list\n",
        "#combined_csv = pd.concat([pd.read_csv(f) for f in all_filenames ])\n",
        "#export to csv\n",
        "#combined_csv.to_csv( \"combined_csv.csv\", index=False, encoding='utf-8-sig')"
      ]
    },
    {
      "cell_type": "code",
      "execution_count": 5,
      "metadata": {
        "id": "encEkbDhSfGI"
      },
      "outputs": [],
      "source": [
        "data = pd.read_csv(\"combined_csv.csv\")"
      ]
    },
    {
      "cell_type": "code",
      "execution_count": 6,
      "metadata": {
        "id": "yz5Qe8ZWk1Zq",
        "colab": {
          "base_uri": "https://localhost:8080/"
        },
        "outputId": "fb35706c-1f35-4014-bb22-5709e1f6d56a"
      },
      "outputs": [
        {
          "output_type": "stream",
          "name": "stdout",
          "text": [
            "<class 'pandas.core.frame.DataFrame'>\n",
            "RangeIndex: 10000000 entries, 0 to 9999999\n",
            "Data columns (total 9 columns):\n",
            " #   Column                         Dtype  \n",
            "---  ------                         -----  \n",
            " 0   tachometer                     float64\n",
            " 1   und-accelerometer-axial        float64\n",
            " 2   und-accelerometer-radial       float64\n",
            " 3   und-accelerometer-tangential   float64\n",
            " 4   over-accelerometer-axial       float64\n",
            " 5   over-accelerometer-radial      float64\n",
            " 6   over-accelerometer-tangential  float64\n",
            " 7   microphone                     float64\n",
            " 8   Class                          int64  \n",
            "dtypes: float64(8), int64(1)\n",
            "memory usage: 686.6 MB\n"
          ]
        }
      ],
      "source": [
        "data.info()"
      ]
    },
    {
      "cell_type": "code",
      "execution_count": 7,
      "metadata": {
        "id": "WUW9ezX6a_st",
        "colab": {
          "base_uri": "https://localhost:8080/"
        },
        "outputId": "1aebf1a9-b3ea-4845-c739-cc2e601206c8"
      },
      "outputs": [
        {
          "output_type": "execute_result",
          "data": {
            "text/plain": [
              "10000000"
            ]
          },
          "metadata": {},
          "execution_count": 7
        }
      ],
      "source": [
        "rec_count = len(data)\n",
        "rec_count"
      ]
    },
    {
      "cell_type": "markdown",
      "source": [
        "# Datu dalīšana mazākos gabalos"
      ],
      "metadata": {
        "id": "6RVC1PZy88fC"
      }
    },
    {
      "cell_type": "code",
      "execution_count": 8,
      "metadata": {
        "id": "DOvnCYkcbGaE"
      },
      "outputs": [],
      "source": [
        "sequence_length = 200"
      ]
    },
    {
      "cell_type": "code",
      "execution_count": 9,
      "metadata": {
        "id": "RG0o2L3zbTEx"
      },
      "outputs": [],
      "source": [
        "def generate_data(X, y, sequence_length = 200, step = 30):\n",
        "    X_local = []\n",
        "    y_local = []\n",
        "    for start in range(0, len(data) - sequence_length, step):\n",
        "        end = start + sequence_length\n",
        "        X_local.append(X[start:end])\n",
        "        y_local.append(y[end-1])\n",
        "    return np.array(X_local), np.array(y_local)\n",
        "\n",
        "X_sequence, y = generate_data(data.loc[:, \"tachometer\":\"microphone\"].values, data.Class)"
      ]
    },
    {
      "cell_type": "code",
      "execution_count": 10,
      "metadata": {
        "id": "s0QxwK66cLVF",
        "colab": {
          "base_uri": "https://localhost:8080/"
        },
        "outputId": "f14fa36d-3889-47f5-aab4-48815644f326"
      },
      "outputs": [
        {
          "output_type": "execute_result",
          "data": {
            "text/plain": [
              "((333327, 200, 8), (333327,))"
            ]
          },
          "metadata": {},
          "execution_count": 10
        }
      ],
      "source": [
        "X_sequence.shape, y.shape"
      ]
    },
    {
      "cell_type": "code",
      "source": [
        "data = 0"
      ],
      "metadata": {
        "id": "i7R1oo6Mj8wx"
      },
      "execution_count": 11,
      "outputs": []
    },
    {
      "cell_type": "markdown",
      "source": [
        "# Random/Shuffle"
      ],
      "metadata": {
        "id": "5BXSDoHa9UX_"
      }
    },
    {
      "cell_type": "code",
      "source": [
        "shuffler = np.random.permutation(len(X_sequence))\n",
        "X_sequence_shuffled = X_sequence[shuffler]\n",
        "y_shuffled = y[shuffler]"
      ],
      "metadata": {
        "id": "ZcfE9idy-ckb"
      },
      "execution_count": 12,
      "outputs": []
    },
    {
      "cell_type": "markdown",
      "source": [
        "# LSTM"
      ],
      "metadata": {
        "id": "TfhRTTNcE2s8"
      }
    },
    {
      "cell_type": "code",
      "execution_count": 13,
      "metadata": {
        "id": "PjKWKiA6aH3z",
        "colab": {
          "base_uri": "https://localhost:8080/"
        },
        "outputId": "4fa74d01-53b0-4025-9d8f-7b15d3d601d6"
      },
      "outputs": [
        {
          "output_type": "stream",
          "name": "stderr",
          "text": [
            "/usr/local/lib/python3.7/dist-packages/keras/optimizer_v2/gradient_descent.py:102: UserWarning: The `lr` argument is deprecated, use `learning_rate` instead.\n",
            "  super(SGD, self).__init__(name, **kwargs)\n"
          ]
        },
        {
          "output_type": "stream",
          "name": "stdout",
          "text": [
            "Model: \"sequential\"\n",
            "_________________________________________________________________\n",
            " Layer (type)                Output Shape              Param #   \n",
            "=================================================================\n",
            " lstm (LSTM)                 (None, 100)               43600     \n",
            "                                                                 \n",
            " dropout (Dropout)           (None, 100)               0         \n",
            "                                                                 \n",
            " dense (Dense)               (None, 1)                 101       \n",
            "                                                                 \n",
            "=================================================================\n",
            "Total params: 43,701\n",
            "Trainable params: 43,701\n",
            "Non-trainable params: 0\n",
            "_________________________________________________________________\n"
          ]
        }
      ],
      "source": [
        "from tensorflow.keras import optimizers\n",
        "sgd = optimizers.SGD(lr=0.0001, decay=1e-6, momentum=0.9, nesterov=True)\n",
        "model = keras.Sequential()\n",
        "model.add(LSTM(100, input_shape = (200, 8)))\n",
        "model.add(Dropout(0.5))\n",
        "model.add(Dense(1, activation=\"sigmoid\"))\n",
        "\n",
        "#model.compile(loss='mean_squared_error', optimizer=sgd)\n",
        "model.compile(loss=\"binary_crossentropy\"\n",
        "              , metrics=[keras.metrics.binary_accuracy]\n",
        "              , optimizer=sgd)\n",
        "\n",
        "model.summary()"
      ]
    },
    {
      "cell_type": "code",
      "execution_count": 14,
      "metadata": {
        "id": "tg8wrqsqc8UX"
      },
      "outputs": [],
      "source": [
        "training_size = int(len(X_sequence) * 0.7)"
      ]
    },
    {
      "cell_type": "code",
      "execution_count": 15,
      "metadata": {
        "id": "avIp3TEKc-qF"
      },
      "outputs": [],
      "source": [
        "X_train, y_train = X_sequence_shuffled[:training_size], y_shuffled[:training_size]\n",
        "X_test, y_test = X_sequence_shuffled[training_size:], y_shuffled[training_size:]"
      ]
    },
    {
      "cell_type": "code",
      "source": [
        "X_sequence = 0\n",
        "y = 0"
      ],
      "metadata": {
        "id": "RABc_uKzkBUT"
      },
      "execution_count": 16,
      "outputs": []
    },
    {
      "cell_type": "code",
      "execution_count": 17,
      "metadata": {
        "id": "cen4faX0dFJP",
        "colab": {
          "base_uri": "https://localhost:8080/"
        },
        "outputId": "6eb42836-64b5-45cb-c8b3-ac42574b2145"
      },
      "outputs": [
        {
          "output_type": "stream",
          "name": "stdout",
          "text": [
            "Epoch 1/50\n",
            "3646/3646 [==============================] - 792s 216ms/step - loss: 0.6925 - binary_accuracy: 0.5246 - val_loss: 0.6837 - val_binary_accuracy: 0.6410\n",
            "Epoch 2/50\n",
            "3646/3646 [==============================] - 778s 213ms/step - loss: 0.6810 - binary_accuracy: 0.5796 - val_loss: 0.6689 - val_binary_accuracy: 0.6945\n",
            "Epoch 3/50\n",
            "3646/3646 [==============================] - 800s 220ms/step - loss: 0.6501 - binary_accuracy: 0.6661 - val_loss: 0.6000 - val_binary_accuracy: 0.7485\n",
            "Epoch 4/50\n",
            "3646/3646 [==============================] - 790s 217ms/step - loss: 0.4686 - binary_accuracy: 0.8150 - val_loss: 0.3686 - val_binary_accuracy: 0.8654\n",
            "Epoch 5/50\n",
            "3646/3646 [==============================] - 787s 216ms/step - loss: 0.3458 - binary_accuracy: 0.8724 - val_loss: 0.3005 - val_binary_accuracy: 0.8887\n",
            "Epoch 6/50\n",
            "3646/3646 [==============================] - 789s 216ms/step - loss: 0.2874 - binary_accuracy: 0.8947 - val_loss: 0.2592 - val_binary_accuracy: 0.9004\n",
            "Epoch 7/50\n",
            "3646/3646 [==============================] - 783s 215ms/step - loss: 0.2390 - binary_accuracy: 0.9133 - val_loss: 0.2193 - val_binary_accuracy: 0.9219\n",
            "Epoch 8/50\n",
            "3646/3646 [==============================] - 790s 217ms/step - loss: 0.2001 - binary_accuracy: 0.9298 - val_loss: 0.1752 - val_binary_accuracy: 0.9399\n",
            "Epoch 9/50\n",
            "3646/3646 [==============================] - 803s 220ms/step - loss: 0.1802 - binary_accuracy: 0.9380 - val_loss: 0.1894 - val_binary_accuracy: 0.9300\n",
            "Epoch 10/50\n",
            "3646/3646 [==============================] - 804s 221ms/step - loss: 0.1620 - binary_accuracy: 0.9457 - val_loss: 0.1295 - val_binary_accuracy: 0.9580\n",
            "Epoch 11/50\n",
            "3646/3646 [==============================] - 785s 215ms/step - loss: 0.2250 - binary_accuracy: 0.9198 - val_loss: 0.1376 - val_binary_accuracy: 0.9560\n",
            "Epoch 12/50\n",
            "3646/3646 [==============================] - 786s 216ms/step - loss: 0.1381 - binary_accuracy: 0.9545 - val_loss: 0.1566 - val_binary_accuracy: 0.9455\n",
            "Epoch 13/50\n",
            "3646/3646 [==============================] - 788s 216ms/step - loss: 0.1301 - binary_accuracy: 0.9568 - val_loss: 0.1197 - val_binary_accuracy: 0.9599\n",
            "Epoch 14/50\n",
            "3646/3646 [==============================] - 799s 219ms/step - loss: 0.1188 - binary_accuracy: 0.9606 - val_loss: 0.0955 - val_binary_accuracy: 0.9699\n",
            "Epoch 15/50\n",
            "3646/3646 [==============================] - 819s 225ms/step - loss: 0.1172 - binary_accuracy: 0.9606 - val_loss: 0.0883 - val_binary_accuracy: 0.9709\n",
            "Epoch 16/50\n",
            "3646/3646 [==============================] - 811s 222ms/step - loss: 0.0996 - binary_accuracy: 0.9667 - val_loss: 0.0982 - val_binary_accuracy: 0.9654\n",
            "Epoch 17/50\n",
            "3646/3646 [==============================] - 800s 219ms/step - loss: 0.1350 - binary_accuracy: 0.9557 - val_loss: 0.1087 - val_binary_accuracy: 0.9653\n",
            "Epoch 18/50\n",
            "3646/3646 [==============================] - 791s 217ms/step - loss: 0.1030 - binary_accuracy: 0.9664 - val_loss: 0.0785 - val_binary_accuracy: 0.9743\n",
            "Epoch 19/50\n",
            "3646/3646 [==============================] - 787s 216ms/step - loss: 0.1026 - binary_accuracy: 0.9652 - val_loss: 0.0742 - val_binary_accuracy: 0.9738\n",
            "Epoch 20/50\n",
            "3646/3646 [==============================] - 785s 215ms/step - loss: 0.0899 - binary_accuracy: 0.9694 - val_loss: 0.1047 - val_binary_accuracy: 0.9690\n",
            "Epoch 21/50\n",
            "3646/3646 [==============================] - 792s 217ms/step - loss: 0.0704 - binary_accuracy: 0.9771 - val_loss: 0.0547 - val_binary_accuracy: 0.9822\n",
            "Epoch 22/50\n",
            "3646/3646 [==============================] - 792s 217ms/step - loss: 0.0615 - binary_accuracy: 0.9799 - val_loss: 0.0533 - val_binary_accuracy: 0.9815\n",
            "Epoch 23/50\n",
            "3646/3646 [==============================] - 803s 220ms/step - loss: 0.0601 - binary_accuracy: 0.9802 - val_loss: 0.0516 - val_binary_accuracy: 0.9850\n",
            "Epoch 24/50\n",
            "3646/3646 [==============================] - 802s 220ms/step - loss: 0.0575 - binary_accuracy: 0.9811 - val_loss: 0.0490 - val_binary_accuracy: 0.9838\n",
            "Epoch 25/50\n",
            "3646/3646 [==============================] - 796s 218ms/step - loss: 0.0538 - binary_accuracy: 0.9822 - val_loss: 0.0715 - val_binary_accuracy: 0.9733\n",
            "Epoch 26/50\n",
            "3646/3646 [==============================] - 816s 224ms/step - loss: 0.0501 - binary_accuracy: 0.9834 - val_loss: 0.0428 - val_binary_accuracy: 0.9857\n",
            "Epoch 27/50\n",
            "3646/3646 [==============================] - 812s 223ms/step - loss: 0.0512 - binary_accuracy: 0.9831 - val_loss: 0.0560 - val_binary_accuracy: 0.9822\n",
            "Epoch 28/50\n",
            "3646/3646 [==============================] - 784s 215ms/step - loss: 0.0466 - binary_accuracy: 0.9846 - val_loss: 0.0362 - val_binary_accuracy: 0.9881\n",
            "Epoch 29/50\n",
            "3646/3646 [==============================] - 789s 216ms/step - loss: 0.0513 - binary_accuracy: 0.9830 - val_loss: 0.0368 - val_binary_accuracy: 0.9873\n",
            "Epoch 30/50\n",
            "3646/3646 [==============================] - 796s 218ms/step - loss: 0.0452 - binary_accuracy: 0.9852 - val_loss: 0.0435 - val_binary_accuracy: 0.9852\n",
            "Epoch 31/50\n",
            "3646/3646 [==============================] - 789s 216ms/step - loss: 0.0407 - binary_accuracy: 0.9866 - val_loss: 0.0374 - val_binary_accuracy: 0.9890\n",
            "Epoch 32/50\n",
            "3646/3646 [==============================] - 792s 217ms/step - loss: 0.0550 - binary_accuracy: 0.9815 - val_loss: 0.0358 - val_binary_accuracy: 0.9875\n",
            "Epoch 33/50\n",
            "3646/3646 [==============================] - 787s 216ms/step - loss: 0.0396 - binary_accuracy: 0.9869 - val_loss: 0.0320 - val_binary_accuracy: 0.9894\n",
            "Epoch 34/50\n",
            "3646/3646 [==============================] - 777s 213ms/step - loss: 0.0384 - binary_accuracy: 0.9873 - val_loss: 0.0381 - val_binary_accuracy: 0.9880\n",
            "Epoch 35/50\n",
            "3646/3646 [==============================] - 791s 217ms/step - loss: 0.0383 - binary_accuracy: 0.9873 - val_loss: 0.0337 - val_binary_accuracy: 0.9888\n",
            "Epoch 36/50\n",
            "3646/3646 [==============================] - 795s 218ms/step - loss: 0.0374 - binary_accuracy: 0.9878 - val_loss: 0.0289 - val_binary_accuracy: 0.9906\n",
            "Epoch 37/50\n",
            "3646/3646 [==============================] - 782s 215ms/step - loss: 0.0377 - binary_accuracy: 0.9876 - val_loss: 0.0516 - val_binary_accuracy: 0.9836\n",
            "Epoch 38/50\n",
            "3646/3646 [==============================] - 783s 215ms/step - loss: 0.0361 - binary_accuracy: 0.9878 - val_loss: 0.0384 - val_binary_accuracy: 0.9886\n",
            "Epoch 39/50\n",
            "3646/3646 [==============================] - 788s 216ms/step - loss: 0.0335 - binary_accuracy: 0.9888 - val_loss: 0.0265 - val_binary_accuracy: 0.9912\n",
            "Epoch 40/50\n",
            "3646/3646 [==============================] - 790s 217ms/step - loss: 0.0363 - binary_accuracy: 0.9877 - val_loss: 0.0333 - val_binary_accuracy: 0.9888\n",
            "Epoch 41/50\n",
            "3646/3646 [==============================] - 799s 219ms/step - loss: 0.0352 - binary_accuracy: 0.9883 - val_loss: 0.0265 - val_binary_accuracy: 0.9909\n",
            "Epoch 42/50\n",
            "3646/3646 [==============================] - 808s 222ms/step - loss: 0.0317 - binary_accuracy: 0.9896 - val_loss: 0.0389 - val_binary_accuracy: 0.9863\n",
            "Epoch 43/50\n",
            "3646/3646 [==============================] - 794s 218ms/step - loss: 0.0339 - binary_accuracy: 0.9887 - val_loss: 0.0330 - val_binary_accuracy: 0.9890\n",
            "Epoch 44/50\n",
            "3646/3646 [==============================] - 786s 216ms/step - loss: 0.0308 - binary_accuracy: 0.9898 - val_loss: 0.0255 - val_binary_accuracy: 0.9915\n",
            "Epoch 45/50\n",
            "3646/3646 [==============================] - 781s 214ms/step - loss: 0.0390 - binary_accuracy: 0.9873 - val_loss: 0.0241 - val_binary_accuracy: 0.9919\n",
            "Epoch 46/50\n",
            "3646/3646 [==============================] - 794s 218ms/step - loss: 0.0510 - binary_accuracy: 0.9833 - val_loss: 0.0517 - val_binary_accuracy: 0.9823\n",
            "Epoch 47/50\n",
            "3646/3646 [==============================] - 806s 221ms/step - loss: 0.0399 - binary_accuracy: 0.9870 - val_loss: 0.0330 - val_binary_accuracy: 0.9886\n",
            "Epoch 48/50\n",
            "3646/3646 [==============================] - 784s 215ms/step - loss: 0.0317 - binary_accuracy: 0.9897 - val_loss: 0.0255 - val_binary_accuracy: 0.9913\n",
            "Epoch 49/50\n",
            "3646/3646 [==============================] - 781s 214ms/step - loss: 0.0283 - binary_accuracy: 0.9906 - val_loss: 0.0264 - val_binary_accuracy: 0.9916\n",
            "Epoch 50/50\n",
            "3646/3646 [==============================] - 784s 215ms/step - loss: 0.0438 - binary_accuracy: 0.9857 - val_loss: 0.0283 - val_binary_accuracy: 0.9903\n"
          ]
        }
      ],
      "source": [
        "history = model.fit(X_train, y_train, batch_size=64, epochs=50, validation_data=(X_test, y_test))"
      ]
    },
    {
      "cell_type": "code",
      "execution_count": 18,
      "metadata": {
        "id": "R7QQeqVidKBR",
        "colab": {
          "base_uri": "https://localhost:8080/"
        },
        "outputId": "690761f8-98f3-493f-9fff-55b8368a717e"
      },
      "outputs": [
        {
          "output_type": "stream",
          "name": "stdout",
          "text": [
            "3125/3125 [==============================] - 129s 41ms/step - loss: 0.0283 - binary_accuracy: 0.9903\n"
          ]
        },
        {
          "output_type": "execute_result",
          "data": {
            "text/plain": [
              "[0.028262846171855927, 0.9903199076652527]"
            ]
          },
          "metadata": {},
          "execution_count": 18
        }
      ],
      "source": [
        "model.evaluate(X_test, y_test)"
      ]
    },
    {
      "cell_type": "code",
      "execution_count": 19,
      "metadata": {
        "id": "OHpifyqGdKn-",
        "colab": {
          "base_uri": "https://localhost:8080/"
        },
        "outputId": "e0f3fa4c-128d-4894-8ac3-c1d4fc49d5dc"
      },
      "outputs": [
        {
          "output_type": "stream",
          "name": "stdout",
          "text": [
            "3125/3125 [==============================] - 128s 41ms/step\n"
          ]
        }
      ],
      "source": [
        "y_test_prob = model.predict(X_test, verbose=1)"
      ]
    },
    {
      "cell_type": "code",
      "execution_count": 20,
      "metadata": {
        "id": "AfmdrBILdMwj"
      },
      "outputs": [],
      "source": [
        "y_test_pred = np.where(y_test_prob > 0.5, 1, 0)"
      ]
    },
    {
      "cell_type": "code",
      "execution_count": 21,
      "metadata": {
        "id": "8DoJy_p9dPzN"
      },
      "outputs": [],
      "source": [
        "from sklearn.metrics import confusion_matrix"
      ]
    },
    {
      "cell_type": "code",
      "execution_count": 22,
      "metadata": {
        "id": "fTCsPjW8dQaZ",
        "colab": {
          "base_uri": "https://localhost:8080/"
        },
        "outputId": "e4f74094-f3ba-4d36-88a8-355ae22af34f"
      },
      "outputs": [
        {
          "output_type": "execute_result",
          "data": {
            "text/plain": [
              "array([[49646,   245],\n",
              "       [  723, 49385]])"
            ]
          },
          "metadata": {},
          "execution_count": 22
        }
      ],
      "source": [
        "confusion_matrix(y_test, y_test_pred)"
      ]
    },
    {
      "cell_type": "code",
      "execution_count": 23,
      "metadata": {
        "id": "te3fslrY9Eca",
        "colab": {
          "base_uri": "https://localhost:8080/",
          "height": 686
        },
        "outputId": "b679d4be-f71f-4abc-9bac-ff33e9674ac5"
      },
      "outputs": [
        {
          "output_type": "stream",
          "name": "stdout",
          "text": [
            "Confusion matrix, without normalization\n",
            "[[49646   245]\n",
            " [  723 49385]]\n",
            "Normalized confusion matrix\n",
            "[[1.   0.  ]\n",
            " [0.01 0.99]]\n"
          ]
        },
        {
          "output_type": "display_data",
          "data": {
            "text/plain": [
              "<Figure size 432x288 with 2 Axes>"
            ],
            "image/png": "[encoded data removed]"
          },
          "metadata": {
            "needs_background": "light"
          }
        },
        {
          "output_type": "display_data",
          "data": {
            "text/plain": [
              "<Figure size 432x288 with 2 Axes>"
            ],
            "image/png": "[encoded data removed]"
          },
          "metadata": {
            "needs_background": "light"
          }
        }
      ],
      "source": [
        "import numpy as np\n",
        "import matplotlib.pyplot as plt\n",
        "\n",
        "from sklearn import svm, datasets\n",
        "from sklearn.model_selection import train_test_split\n",
        "from sklearn.metrics import confusion_matrix\n",
        "from sklearn.utils.multiclass import unique_labels\n",
        "\n",
        "class_names = np.array(['0', '1'])\n",
        "\n",
        "def plot_confusion_matrix(y_true, y_pred, classes,\n",
        "                          normalize=False,\n",
        "                          title=None,\n",
        "                          cmap=plt.cm.Blues):\n",
        "    \"\"\"\n",
        "    This function prints and plots the confusion matrix.\n",
        "    Normalization can be applied by setting `normalize=True`.\n",
        "    \"\"\"\n",
        "    if not title:\n",
        "        if normalize:\n",
        "            title = 'Normalized confusion matrix'\n",
        "        else:\n",
        "            title = 'Confusion matrix, without normalization'\n",
        "\n",
        "    # Compute confusion matrix\n",
        "    cm = confusion_matrix(y_true, y_pred)\n",
        "    # Only use the labels that appear in the data\n",
        "    classes = classes[unique_labels(y_true, y_pred)]\n",
        "    if normalize:\n",
        "        cm = cm.astype('float') / cm.sum(axis=1)[:, np.newaxis]\n",
        "        print(\"Normalized confusion matrix\")\n",
        "    else:\n",
        "        print('Confusion matrix, without normalization')\n",
        "\n",
        "    print(cm)\n",
        "\n",
        "    fig, ax = plt.subplots()\n",
        "    im = ax.imshow(cm, interpolation='nearest', cmap=cmap)\n",
        "    ax.figure.colorbar(im, ax=ax)\n",
        "    # We want to show all ticks...\n",
        "    ax.set(xticks=np.arange(cm.shape[1]),\n",
        "           yticks=np.arange(cm.shape[0]),\n",
        "           # ... and label them with the respective list entries\n",
        "           xticklabels=classes, yticklabels=classes,\n",
        "           title=title,\n",
        "           ylabel='True label',\n",
        "           xlabel='Predicted label')\n",
        "\n",
        "    # Rotate the tick labels and set their alignment.\n",
        "    plt.setp(ax.get_xticklabels(), rotation=45, ha=\"right\",\n",
        "             rotation_mode=\"anchor\")\n",
        "\n",
        "    # Loop over data dimensions and create text annotations.\n",
        "    fmt = '.2f' if normalize else 'd'\n",
        "    thresh = cm.max() / 2.\n",
        "    for i in range(cm.shape[0]):\n",
        "        for j in range(cm.shape[1]):\n",
        "            ax.text(j, i, format(cm[i, j], fmt),\n",
        "                    ha=\"center\", va=\"center\",\n",
        "                    color=\"white\" if cm[i, j] > thresh else \"black\")\n",
        "    fig.tight_layout()\n",
        "\n",
        "    return ax\n",
        "\n",
        "\n",
        "np.set_printoptions(precision=2)\n",
        "\n",
        "# Plot non-normalized confusion matrix\n",
        "plot_confusion_matrix(y_test, y_test_pred, classes=class_names,\n",
        "                      title='Confusion matrix, without normalization')\n",
        "\n",
        "# Plot normalized confusion matrix\n",
        "plot_confusion_matrix(y_test, y_test_pred, classes=class_names, normalize=True,\n",
        "                      title='Normalized confusion matrix')\n",
        "\n",
        "plt.show()"
      ]
    },
    {
      "cell_type": "code",
      "source": [
        "def plot_learningCurve(history, epoch):\n",
        "  # Plot training & validation accuracy values\n",
        "  epoch_range = range(1, epoch+1)\n",
        "  plt.plot(epoch_range, history.history['binary_accuracy'])\n",
        "  plt.plot(epoch_range, history.history['val_binary_accuracy'])\n",
        "  plt.title('Model accuracy')\n",
        "  plt.ylabel('Accuracy')\n",
        "  plt.xlabel('Epoch')\n",
        "  plt.legend(['Train', 'Val'], loc='upper left')\n",
        "  plt.show()\n",
        "\n",
        "  # Plot training & validation loss values\n",
        "  plt.plot(epoch_range, history.history['loss'])\n",
        "  plt.plot(epoch_range, history.history['val_loss'])\n",
        "  plt.title('Model loss')\n",
        "  plt.ylabel('Loss')\n",
        "  plt.xlabel('Epoch')\n",
        "  plt.legend(['Train', 'Val'], loc='upper left')\n",
        "  plt.show()"
      ],
      "metadata": {
        "id": "fhdLAhgPUnH3"
      },
      "execution_count": 24,
      "outputs": []
    },
    {
      "cell_type": "code",
      "source": [
        "plot_learningCurve(history, 50)"
      ],
      "metadata": {
        "id": "WlkQkWHgU5mL",
        "colab": {
          "base_uri": "https://localhost:8080/",
          "height": 573
        },
        "outputId": "71e89a19-04db-45b3-9170-4239977df7fe"
      },
      "execution_count": 25,
      "outputs": [
        {
          "output_type": "display_data",
          "data": {
            "text/plain": [
              "<Figure size 432x288 with 1 Axes>"
            ],
            "image/png": "[encoded data removed]"
          },
          "metadata": {
            "needs_background": "light"
          }
        },
        {
          "output_type": "display_data",
          "data": {
            "text/plain": [
              "<Figure size 432x288 with 1 Axes>"
            ],
            "image/png": "[encoded data removed]"
          },
          "metadata": {
            "needs_background": "light"
          }
        }
      ]
    }
  ],
  "metadata": {
    "colab": {
      "collapsed_sections": [
        "f857kfHqUk0-"
      ],
      "name": "MD LSTM step 40 files 40.ipynb",
      "provenance": [],
      "authorship_tag": "ABX9TyNfNXfIiVLU08d+fbSIl21+",
      "include_colab_link": true
    },
    "kernelspec": {
      "display_name": "Python 3",
      "name": "python3"
    },
    "language_info": {
      "name": "python"
    }
  },
  "nbformat": 4,
  "nbformat_minor": 0
}